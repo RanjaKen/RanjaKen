{
 "cells": [
  {
   "cell_type": "markdown",
   "id": "13df9875",
   "metadata": {
    "papermill": {
     "duration": 0.006579,
     "end_time": "2024-09-16T20:58:49.036047",
     "exception": false,
     "start_time": "2024-09-16T20:58:49.029468",
     "status": "completed"
    },
    "tags": []
   },
   "source": [
    "**This notebook is an exercise in the [Python](https://www.kaggle.com/learn/python) course.  You can reference the tutorial at [this link](https://www.kaggle.com/colinmorris/strings-and-dictionaries).**\n",
    "\n",
    "---\n"
   ]
  },
  {
   "cell_type": "markdown",
   "id": "9fabed8d",
   "metadata": {
    "papermill": {
     "duration": 0.005592,
     "end_time": "2024-09-16T20:58:49.047747",
     "exception": false,
     "start_time": "2024-09-16T20:58:49.042155",
     "status": "completed"
    },
    "tags": []
   },
   "source": [
    "You are almost done with the course. Nice job!\n",
    "\n",
    "We have a couple more interesting problems for you before you go. \n",
    "\n",
    "As always, run the setup code below before working on the questions."
   ]
  },
  {
   "cell_type": "code",
   "execution_count": 1,
   "id": "4083a1fb",
   "metadata": {
    "execution": {
     "iopub.execute_input": "2024-09-16T20:58:49.060317Z",
     "iopub.status.busy": "2024-09-16T20:58:49.059878Z",
     "iopub.status.idle": "2024-09-16T20:58:49.511012Z",
     "shell.execute_reply": "2024-09-16T20:58:49.509588Z"
    },
    "papermill": {
     "duration": 0.461131,
     "end_time": "2024-09-16T20:58:49.514229",
     "exception": false,
     "start_time": "2024-09-16T20:58:49.053098",
     "status": "completed"
    },
    "tags": []
   },
   "outputs": [
    {
     "name": "stdout",
     "output_type": "stream",
     "text": [
      "Setup complete.\n"
     ]
    }
   ],
   "source": [
    "from learntools.core import binder; binder.bind(globals())\n",
    "from learntools.python.ex6 import *\n",
    "print('Setup complete.')"
   ]
  },
  {
   "cell_type": "markdown",
   "id": "2c84f640",
   "metadata": {
    "papermill": {
     "duration": 0.005679,
     "end_time": "2024-09-16T20:58:49.527098",
     "exception": false,
     "start_time": "2024-09-16T20:58:49.521419",
     "status": "completed"
    },
    "tags": []
   },
   "source": [
    "Let's start with a string lightning round to warm up. What are the lengths of the strings below?\n",
    "\n",
    "For each of the five strings below, predict what `len()` would return when passed that string. Use the variable `length` to record your answer, then run the cell to check whether you were right.  \n",
    "\n",
    "# 0a."
   ]
  },
  {
   "cell_type": "code",
   "execution_count": 2,
   "id": "be2f2078",
   "metadata": {
    "execution": {
     "iopub.execute_input": "2024-09-16T20:58:49.540287Z",
     "iopub.status.busy": "2024-09-16T20:58:49.539754Z",
     "iopub.status.idle": "2024-09-16T20:58:49.550534Z",
     "shell.execute_reply": "2024-09-16T20:58:49.549481Z"
    },
    "papermill": {
     "duration": 0.020306,
     "end_time": "2024-09-16T20:58:49.552884",
     "exception": false,
     "start_time": "2024-09-16T20:58:49.532578",
     "status": "completed"
    },
    "tags": []
   },
   "outputs": [
    {
     "data": {
      "application/javascript": [
       "parent.postMessage({\"jupyterEvent\": \"custom.exercise_interaction\", \"data\": {\"outcomeType\": 1, \"valueTowardsCompletion\": 0.3333333333333333, \"interactionType\": 1, \"questionType\": 1, \"questionId\": \"0.1_ZA\", \"learnToolsVersion\": \"0.3.4\", \"failureMessage\": \"\", \"exceptionClass\": \"\", \"trace\": \"\"}}, \"*\")"
      ],
      "text/plain": [
       "<IPython.core.display.Javascript object>"
      ]
     },
     "metadata": {},
     "output_type": "display_data"
    },
    {
     "data": {
      "text/markdown": [
       "<span style=\"color:#33cc33\">Correct:</span> \n",
       "\n",
       "The empty string has length zero. Note that the empty string is also the only string that Python considers as False when converting to boolean."
      ],
      "text/plain": [
       "Correct: \n",
       "\n",
       "The empty string has length zero. Note that the empty string is also the only string that Python considers as False when converting to boolean."
      ]
     },
     "metadata": {},
     "output_type": "display_data"
    }
   ],
   "source": [
    "a = \"\"\n",
    "length = 0\n",
    "q0.a.check()"
   ]
  },
  {
   "cell_type": "markdown",
   "id": "70337990",
   "metadata": {
    "papermill": {
     "duration": 0.005833,
     "end_time": "2024-09-16T20:58:49.564894",
     "exception": false,
     "start_time": "2024-09-16T20:58:49.559061",
     "status": "completed"
    },
    "tags": []
   },
   "source": [
    "# 0b."
   ]
  },
  {
   "cell_type": "code",
   "execution_count": 3,
   "id": "e7ea1df4",
   "metadata": {
    "execution": {
     "iopub.execute_input": "2024-09-16T20:58:49.578098Z",
     "iopub.status.busy": "2024-09-16T20:58:49.577395Z",
     "iopub.status.idle": "2024-09-16T20:58:49.586537Z",
     "shell.execute_reply": "2024-09-16T20:58:49.585536Z"
    },
    "papermill": {
     "duration": 0.018417,
     "end_time": "2024-09-16T20:58:49.588964",
     "exception": false,
     "start_time": "2024-09-16T20:58:49.570547",
     "status": "completed"
    },
    "tags": []
   },
   "outputs": [
    {
     "data": {
      "application/javascript": [
       "parent.postMessage({\"jupyterEvent\": \"custom.exercise_interaction\", \"data\": {\"outcomeType\": 1, \"valueTowardsCompletion\": 0.3333333333333333, \"interactionType\": 1, \"questionType\": 1, \"questionId\": \"0.2_ZB\", \"learnToolsVersion\": \"0.3.4\", \"failureMessage\": \"\", \"exceptionClass\": \"\", \"trace\": \"\"}}, \"*\")"
      ],
      "text/plain": [
       "<IPython.core.display.Javascript object>"
      ]
     },
     "metadata": {},
     "output_type": "display_data"
    },
    {
     "data": {
      "text/markdown": [
       "<span style=\"color:#33cc33\">Correct:</span> \n",
       "\n",
       "Keep in mind Python includes spaces (and punctuation) when counting string length."
      ],
      "text/plain": [
       "Correct: \n",
       "\n",
       "Keep in mind Python includes spaces (and punctuation) when counting string length."
      ]
     },
     "metadata": {},
     "output_type": "display_data"
    }
   ],
   "source": [
    "b = \"it's ok\"\n",
    "length = 7\n",
    "q0.b.check()"
   ]
  },
  {
   "cell_type": "markdown",
   "id": "106e5141",
   "metadata": {
    "papermill": {
     "duration": 0.005653,
     "end_time": "2024-09-16T20:58:49.600651",
     "exception": false,
     "start_time": "2024-09-16T20:58:49.594998",
     "status": "completed"
    },
    "tags": []
   },
   "source": [
    "# 0c."
   ]
  },
  {
   "cell_type": "code",
   "execution_count": 4,
   "id": "9089a293",
   "metadata": {
    "execution": {
     "iopub.execute_input": "2024-09-16T20:58:49.613852Z",
     "iopub.status.busy": "2024-09-16T20:58:49.613427Z",
     "iopub.status.idle": "2024-09-16T20:58:49.622520Z",
     "shell.execute_reply": "2024-09-16T20:58:49.621356Z"
    },
    "papermill": {
     "duration": 0.018402,
     "end_time": "2024-09-16T20:58:49.624799",
     "exception": false,
     "start_time": "2024-09-16T20:58:49.606397",
     "status": "completed"
    },
    "tags": []
   },
   "outputs": [
    {
     "data": {
      "application/javascript": [
       "parent.postMessage({\"jupyterEvent\": \"custom.exercise_interaction\", \"data\": {\"outcomeType\": 1, \"valueTowardsCompletion\": 0.3333333333333333, \"interactionType\": 1, \"questionType\": 1, \"questionId\": \"0.3_ZC\", \"learnToolsVersion\": \"0.3.4\", \"failureMessage\": \"\", \"exceptionClass\": \"\", \"trace\": \"\"}}, \"*\")"
      ],
      "text/plain": [
       "<IPython.core.display.Javascript object>"
      ]
     },
     "metadata": {},
     "output_type": "display_data"
    },
    {
     "data": {
      "text/markdown": [
       "<span style=\"color:#33cc33\">Correct:</span> \n",
       "\n",
       "Even though we use different syntax to create it, the string `c` is identical to `b`. In particular, note that the backslash is not part of the string, so it doesn't contribute to its length."
      ],
      "text/plain": [
       "Correct: \n",
       "\n",
       "Even though we use different syntax to create it, the string `c` is identical to `b`. In particular, note that the backslash is not part of the string, so it doesn't contribute to its length."
      ]
     },
     "metadata": {},
     "output_type": "display_data"
    }
   ],
   "source": [
    "c = 'it\\'s ok'\n",
    "length = 7\n",
    "q0.c.check()"
   ]
  },
  {
   "cell_type": "markdown",
   "id": "87fe9722",
   "metadata": {
    "papermill": {
     "duration": 0.005834,
     "end_time": "2024-09-16T20:58:49.636963",
     "exception": false,
     "start_time": "2024-09-16T20:58:49.631129",
     "status": "completed"
    },
    "tags": []
   },
   "source": [
    "# 0d."
   ]
  },
  {
   "cell_type": "code",
   "execution_count": 5,
   "id": "6a9d91c9",
   "metadata": {
    "execution": {
     "iopub.execute_input": "2024-09-16T20:58:49.651014Z",
     "iopub.status.busy": "2024-09-16T20:58:49.650283Z",
     "iopub.status.idle": "2024-09-16T20:58:49.660172Z",
     "shell.execute_reply": "2024-09-16T20:58:49.659087Z"
    },
    "papermill": {
     "duration": 0.019432,
     "end_time": "2024-09-16T20:58:49.662459",
     "exception": false,
     "start_time": "2024-09-16T20:58:49.643027",
     "status": "completed"
    },
    "tags": []
   },
   "outputs": [
    {
     "data": {
      "application/javascript": [
       "parent.postMessage({\"jupyterEvent\": \"custom.exercise_interaction\", \"data\": {\"outcomeType\": 1, \"valueTowardsCompletion\": 0.3333333333333333, \"interactionType\": 1, \"questionType\": 1, \"questionId\": \"0.4_ZD\", \"learnToolsVersion\": \"0.3.4\", \"failureMessage\": \"\", \"exceptionClass\": \"\", \"trace\": \"\"}}, \"*\")"
      ],
      "text/plain": [
       "<IPython.core.display.Javascript object>"
      ]
     },
     "metadata": {},
     "output_type": "display_data"
    },
    {
     "data": {
      "text/markdown": [
       "<span style=\"color:#33cc33\">Correct:</span> \n",
       "\n",
       "The fact that this string was created using triple-quote syntax doesn't make any difference in terms of its content or length. This string is exactly the same as `'hey'`."
      ],
      "text/plain": [
       "Correct: \n",
       "\n",
       "The fact that this string was created using triple-quote syntax doesn't make any difference in terms of its content or length. This string is exactly the same as `'hey'`."
      ]
     },
     "metadata": {},
     "output_type": "display_data"
    }
   ],
   "source": [
    "d = \"\"\"hey\"\"\"\n",
    "length = 3\n",
    "q0.d.check()"
   ]
  },
  {
   "cell_type": "markdown",
   "id": "95a80ef3",
   "metadata": {
    "papermill": {
     "duration": 0.00641,
     "end_time": "2024-09-16T20:58:49.675559",
     "exception": false,
     "start_time": "2024-09-16T20:58:49.669149",
     "status": "completed"
    },
    "tags": []
   },
   "source": [
    "# 0e."
   ]
  },
  {
   "cell_type": "code",
   "execution_count": 6,
   "id": "43d4935a",
   "metadata": {
    "execution": {
     "iopub.execute_input": "2024-09-16T20:58:49.690086Z",
     "iopub.status.busy": "2024-09-16T20:58:49.689659Z",
     "iopub.status.idle": "2024-09-16T20:58:49.699065Z",
     "shell.execute_reply": "2024-09-16T20:58:49.697665Z"
    },
    "papermill": {
     "duration": 0.019409,
     "end_time": "2024-09-16T20:58:49.701371",
     "exception": false,
     "start_time": "2024-09-16T20:58:49.681962",
     "status": "completed"
    },
    "tags": []
   },
   "outputs": [
    {
     "data": {
      "application/javascript": [
       "parent.postMessage({\"jupyterEvent\": \"custom.exercise_interaction\", \"data\": {\"outcomeType\": 1, \"valueTowardsCompletion\": 0.3333333333333333, \"interactionType\": 1, \"questionType\": 1, \"questionId\": \"0.5_ZE\", \"learnToolsVersion\": \"0.3.4\", \"failureMessage\": \"\", \"exceptionClass\": \"\", \"trace\": \"\"}}, \"*\")"
      ],
      "text/plain": [
       "<IPython.core.display.Javascript object>"
      ]
     },
     "metadata": {},
     "output_type": "display_data"
    },
    {
     "data": {
      "text/markdown": [
       "<span style=\"color:#33cc33\">Correct:</span> \n",
       "\n",
       "The newline character is just a single character! (Even though we represent it to Python using a combination of two characters.)"
      ],
      "text/plain": [
       "Correct: \n",
       "\n",
       "The newline character is just a single character! (Even though we represent it to Python using a combination of two characters.)"
      ]
     },
     "metadata": {},
     "output_type": "display_data"
    }
   ],
   "source": [
    "e = '\\n'\n",
    "length = 1\n",
    "q0.e.check()"
   ]
  },
  {
   "cell_type": "markdown",
   "id": "9f7320ef",
   "metadata": {
    "papermill": {
     "duration": 0.006946,
     "end_time": "2024-09-16T20:58:49.715126",
     "exception": false,
     "start_time": "2024-09-16T20:58:49.708180",
     "status": "completed"
    },
    "tags": []
   },
   "source": [
    "# 1.\n",
    "\n",
    "There is a saying that \"Data scientists spend 80% of their time cleaning data, and 20% of their time complaining about cleaning data.\" Let's see if you can write a function to help clean US zip code data. Given a string, it should return whether or not that string represents a valid zip code. For our purposes, a valid zip code is any string consisting of exactly 5 digits.\n",
    "\n",
    "HINT: `str` has a method that will be useful here. Use `help(str)` to review a list of string methods."
   ]
  },
  {
   "cell_type": "code",
   "execution_count": 7,
   "id": "92239e94",
   "metadata": {
    "execution": {
     "iopub.execute_input": "2024-09-16T20:58:49.730908Z",
     "iopub.status.busy": "2024-09-16T20:58:49.730493Z",
     "iopub.status.idle": "2024-09-16T20:58:49.739766Z",
     "shell.execute_reply": "2024-09-16T20:58:49.738656Z"
    },
    "papermill": {
     "duration": 0.020202,
     "end_time": "2024-09-16T20:58:49.742155",
     "exception": false,
     "start_time": "2024-09-16T20:58:49.721953",
     "status": "completed"
    },
    "tags": []
   },
   "outputs": [
    {
     "data": {
      "application/javascript": [
       "parent.postMessage({\"jupyterEvent\": \"custom.exercise_interaction\", \"data\": {\"outcomeType\": 1, \"valueTowardsCompletion\": 0.3333333333333333, \"interactionType\": 1, \"questionType\": 2, \"questionId\": \"1_ZipValidator\", \"learnToolsVersion\": \"0.3.4\", \"failureMessage\": \"\", \"exceptionClass\": \"\", \"trace\": \"\"}}, \"*\")"
      ],
      "text/plain": [
       "<IPython.core.display.Javascript object>"
      ]
     },
     "metadata": {},
     "output_type": "display_data"
    },
    {
     "data": {
      "text/markdown": [
       "<span style=\"color:#33cc33\">Correct</span>"
      ],
      "text/plain": [
       "Correct"
      ]
     },
     "metadata": {},
     "output_type": "display_data"
    }
   ],
   "source": [
    "def is_valid_zip(zip_code):\n",
    "    \"\"\"Returns whether the input string is a valid (5 digit) zip code\n",
    "    \"\"\"\n",
    "    pass\n",
    "    return len(zip_code) == 5 and zip_code.isdigit()\n",
    "\n",
    "# Check your answer\n",
    "q1.check()"
   ]
  },
  {
   "cell_type": "code",
   "execution_count": 8,
   "id": "a7b348d1",
   "metadata": {
    "execution": {
     "iopub.execute_input": "2024-09-16T20:58:49.758366Z",
     "iopub.status.busy": "2024-09-16T20:58:49.757994Z",
     "iopub.status.idle": "2024-09-16T20:58:49.762869Z",
     "shell.execute_reply": "2024-09-16T20:58:49.761593Z"
    },
    "papermill": {
     "duration": 0.01564,
     "end_time": "2024-09-16T20:58:49.765326",
     "exception": false,
     "start_time": "2024-09-16T20:58:49.749686",
     "status": "completed"
    },
    "tags": []
   },
   "outputs": [],
   "source": [
    "#q1.hint()\n",
    "#q1.solution()"
   ]
  },
  {
   "cell_type": "markdown",
   "id": "5568e3c4",
   "metadata": {
    "papermill": {
     "duration": 0.006841,
     "end_time": "2024-09-16T20:58:49.779277",
     "exception": false,
     "start_time": "2024-09-16T20:58:49.772436",
     "status": "completed"
    },
    "tags": []
   },
   "source": [
    "# 2.\n",
    "\n",
    "A researcher has gathered thousands of news articles. But she wants to focus her attention on articles including a specific word. Complete the function below to help her filter her list of articles.\n",
    "\n",
    "Your function should meet the following criteria:\n",
    "\n",
    "- Do not include documents where the keyword string shows up only as a part of a larger word. For example, if she were looking for the keyword “closed”, you would not include the string “enclosed.” \n",
    "- She does not want you to distinguish upper case from lower case letters. So the phrase “Closed the case.” would be included when the keyword is “closed”\n",
    "- Do not let periods or commas affect what is matched. “It is closed.” would be included when the keyword is “closed”. But you can assume there are no other types of punctuation."
   ]
  },
  {
   "cell_type": "code",
   "execution_count": 9,
   "id": "adc156f0",
   "metadata": {
    "execution": {
     "iopub.execute_input": "2024-09-16T20:58:49.795528Z",
     "iopub.status.busy": "2024-09-16T20:58:49.795109Z",
     "iopub.status.idle": "2024-09-16T20:58:49.806614Z",
     "shell.execute_reply": "2024-09-16T20:58:49.805556Z"
    },
    "papermill": {
     "duration": 0.022865,
     "end_time": "2024-09-16T20:58:49.809388",
     "exception": false,
     "start_time": "2024-09-16T20:58:49.786523",
     "status": "completed"
    },
    "tags": []
   },
   "outputs": [
    {
     "data": {
      "application/javascript": [
       "parent.postMessage({\"jupyterEvent\": \"custom.exercise_interaction\", \"data\": {\"outcomeType\": 3, \"exceptionClass\": \"AttributeError\", \"trace\": \"  File \\\"/opt/conda/lib/python3.10/site-packages/learntools/core/problem.py\\\", line 239, in check\\n    actual = fn(*args)\\n\\n  File \\\"/tmp/ipykernel_17/2437540098.py\\\", line 16, in word_search\\n    normal = [token.split('.,').lower() for token in tokens]\\n\\n  File \\\"/tmp/ipykernel_17/2437540098.py\\\", line 16, in <listcomp>\\n    normal = [token.split('.,').lower() for token in tokens]\\n\", \"failureMessage\": \"When calling your function with arguments `[['The Learn Python Challenge Casino', 'They bought a car, and a horse', 'Casinoville?'], 'casino']`, Python raised the following exception... **`AttributeError: 'list' object has no attribute 'lower'`**\", \"interactionType\": 1, \"questionType\": 2, \"questionId\": \"2_WordSearch\", \"learnToolsVersion\": \"0.3.4\", \"valueTowardsCompletion\": 0.0}}, \"*\")"
      ],
      "text/plain": [
       "<IPython.core.display.Javascript object>"
      ]
     },
     "metadata": {},
     "output_type": "display_data"
    },
    {
     "data": {
      "text/markdown": [
       "<span style=\"color:#cc3333\">Incorrect:</span> When calling your function with arguments `[['The Learn Python Challenge Casino', 'They bought a car, and a horse', 'Casinoville?'], 'casino']`, Python raised the following exception... **`AttributeError: 'list' object has no attribute 'lower'`**"
      ],
      "text/plain": [
       "Incorrect: When calling your function with arguments `[['The Learn Python Challenge Casino', 'They bought a car, and a horse', 'Casinoville?'], 'casino']`, Python raised the following exception... **`AttributeError: 'list' object has no attribute 'lower'`**"
      ]
     },
     "metadata": {},
     "output_type": "display_data"
    }
   ],
   "source": [
    "def word_search(doc_list, keyword):\n",
    "    \"\"\"\n",
    "    Takes a list of documents (each document is a string) and a keyword. \n",
    "    Returns list of the index values into the original list for all documents \n",
    "    containing the keyword.\n",
    "\n",
    "    Example:\n",
    "    doc_list = [\"The Learn Python Challenge Casino.\", \"They bought a car\", \"Casinoville\"]\n",
    "    >>> word_search(doc_list, 'casino')\n",
    "    >>> [0]\n",
    "    \"\"\"\n",
    "    pass\n",
    "    index = []\n",
    "    for i, doc in enumerate(doc_list):\n",
    "        tokens = doc.split()\n",
    "        normal = [token.split('.,').lower() for token in tokens]\n",
    "        if keyword.lower() in normal:\n",
    "            index.append(i)\n",
    "        return index\n",
    "\n",
    "# Check your answer\n",
    "q2.check()"
   ]
  },
  {
   "cell_type": "code",
   "execution_count": 10,
   "id": "507d2084",
   "metadata": {
    "execution": {
     "iopub.execute_input": "2024-09-16T20:58:49.826136Z",
     "iopub.status.busy": "2024-09-16T20:58:49.825689Z",
     "iopub.status.idle": "2024-09-16T20:58:49.833470Z",
     "shell.execute_reply": "2024-09-16T20:58:49.832365Z"
    },
    "papermill": {
     "duration": 0.019218,
     "end_time": "2024-09-16T20:58:49.836013",
     "exception": false,
     "start_time": "2024-09-16T20:58:49.816795",
     "status": "completed"
    },
    "tags": []
   },
   "outputs": [
    {
     "data": {
      "text/plain": [
       "'\\n'"
      ]
     },
     "execution_count": 10,
     "metadata": {},
     "output_type": "execute_result"
    }
   ],
   "source": [
    "e"
   ]
  },
  {
   "cell_type": "code",
   "execution_count": 11,
   "id": "5e3f0625",
   "metadata": {
    "execution": {
     "iopub.execute_input": "2024-09-16T20:58:49.852642Z",
     "iopub.status.busy": "2024-09-16T20:58:49.852237Z",
     "iopub.status.idle": "2024-09-16T20:58:49.857152Z",
     "shell.execute_reply": "2024-09-16T20:58:49.855837Z"
    },
    "papermill": {
     "duration": 0.016056,
     "end_time": "2024-09-16T20:58:49.859464",
     "exception": false,
     "start_time": "2024-09-16T20:58:49.843408",
     "status": "completed"
    },
    "tags": []
   },
   "outputs": [],
   "source": [
    "#q2.hint()\n",
    "#q2.solution()"
   ]
  },
  {
   "cell_type": "markdown",
   "id": "13e66d07",
   "metadata": {
    "papermill": {
     "duration": 0.007211,
     "end_time": "2024-09-16T20:58:49.874210",
     "exception": false,
     "start_time": "2024-09-16T20:58:49.866999",
     "status": "completed"
    },
    "tags": []
   },
   "source": [
    "# 3.\n",
    "\n",
    "Now the researcher wants to supply multiple keywords to search for. Complete the function below to help her.\n",
    "\n",
    "(You're encouraged to use the `word_search` function you just wrote when implementing this function. Reusing code in this way makes your programs more robust and readable - and it saves typing!)"
   ]
  },
  {
   "cell_type": "code",
   "execution_count": 12,
   "id": "09f617a5",
   "metadata": {
    "execution": {
     "iopub.execute_input": "2024-09-16T20:58:49.890911Z",
     "iopub.status.busy": "2024-09-16T20:58:49.890467Z",
     "iopub.status.idle": "2024-09-16T20:58:49.900650Z",
     "shell.execute_reply": "2024-09-16T20:58:49.899459Z"
    },
    "papermill": {
     "duration": 0.021371,
     "end_time": "2024-09-16T20:58:49.903000",
     "exception": false,
     "start_time": "2024-09-16T20:58:49.881629",
     "status": "completed"
    },
    "tags": []
   },
   "outputs": [
    {
     "data": {
      "application/javascript": [
       "parent.postMessage({\"jupyterEvent\": \"custom.exercise_interaction\", \"data\": {\"outcomeType\": 4, \"interactionType\": 1, \"questionType\": 2, \"questionId\": \"3_MultiWordSearch\", \"learnToolsVersion\": \"0.3.4\", \"valueTowardsCompletion\": 0.0, \"failureMessage\": \"\", \"exceptionClass\": \"\", \"trace\": \"\"}}, \"*\")"
      ],
      "text/plain": [
       "<IPython.core.display.Javascript object>"
      ]
     },
     "metadata": {},
     "output_type": "display_data"
    },
    {
     "data": {
      "text/markdown": [
       "<span style=\"color:#ccaa33\">Check:</span> When you've updated the starter code, `check()` will tell you whether your code is correct. "
      ],
      "text/plain": [
       "Check: When you've updated the starter code, `check()` will tell you whether your code is correct. "
      ]
     },
     "metadata": {},
     "output_type": "display_data"
    }
   ],
   "source": [
    "def multi_word_search(doc_list, keywords):\n",
    "    \"\"\"\n",
    "    Takes list of documents (each document is a string) and a list of keywords.  \n",
    "    Returns a dictionary where each key is a keyword, and the value is a list of indices\n",
    "    (from doc_list) of the documents containing that keyword\n",
    "\n",
    "    >>> doc_list = [\"The Learn Python Challenge Casino.\", \"They bought a car and a casino\", \"Casinoville\"]\n",
    "    >>> keywords = ['casino', 'they']\n",
    "    >>> multi_word_search(doc_list, keywords)\n",
    "    {'casino': [0, 1], 'they': [1]}\n",
    "    \"\"\"\n",
    "    pass\n",
    "\n",
    "# Check your answer\n",
    "q3.check()"
   ]
  },
  {
   "cell_type": "code",
   "execution_count": 13,
   "id": "fe8072e1",
   "metadata": {
    "execution": {
     "iopub.execute_input": "2024-09-16T20:58:49.920287Z",
     "iopub.status.busy": "2024-09-16T20:58:49.919864Z",
     "iopub.status.idle": "2024-09-16T20:58:49.924801Z",
     "shell.execute_reply": "2024-09-16T20:58:49.923528Z"
    },
    "papermill": {
     "duration": 0.016499,
     "end_time": "2024-09-16T20:58:49.927258",
     "exception": false,
     "start_time": "2024-09-16T20:58:49.910759",
     "status": "completed"
    },
    "tags": []
   },
   "outputs": [],
   "source": [
    "#q3.solution()"
   ]
  },
  {
   "cell_type": "markdown",
   "id": "cc82d6c4",
   "metadata": {
    "papermill": {
     "duration": 0.007814,
     "end_time": "2024-09-16T20:58:49.943178",
     "exception": false,
     "start_time": "2024-09-16T20:58:49.935364",
     "status": "completed"
    },
    "tags": []
   },
   "source": [
    "# Keep Going\n",
    "\n",
    "You've learned a lot. But even the best programmers rely heavily on \"libraries\" of code from other programmers. You'll learn about that in **[the last lesson](https://www.kaggle.com/colinmorris/working-with-external-libraries)**.\n"
   ]
  },
  {
   "cell_type": "markdown",
   "id": "029ef2e7",
   "metadata": {
    "papermill": {
     "duration": 0.007756,
     "end_time": "2024-09-16T20:58:49.958906",
     "exception": false,
     "start_time": "2024-09-16T20:58:49.951150",
     "status": "completed"
    },
    "tags": []
   },
   "source": [
    "---\n",
    "\n",
    "\n",
    "\n",
    "\n",
    "*Have questions or comments? Visit the [course discussion forum](https://www.kaggle.com/learn/python/discussion) to chat with other learners.*"
   ]
  }
 ],
 "metadata": {
  "kaggle": {
   "accelerator": "none",
   "dataSources": [],
   "isGpuEnabled": false,
   "isInternetEnabled": false,
   "language": "python",
   "sourceType": "notebook"
  },
  "kernelspec": {
   "display_name": "Python 3",
   "language": "python",
   "name": "python3"
  },
  "language_info": {
   "codemirror_mode": {
    "name": "ipython",
    "version": 3
   },
   "file_extension": ".py",
   "mimetype": "text/x-python",
   "name": "python",
   "nbconvert_exporter": "python",
   "pygments_lexer": "ipython3",
   "version": "3.10.14"
  },
  "learntools_metadata": {
   "lesson_index": 5,
   "type": "exercise"
  },
  "papermill": {
   "default_parameters": {},
   "duration": 4.315527,
   "end_time": "2024-09-16T20:58:50.489609",
   "environment_variables": {},
   "exception": null,
   "input_path": "__notebook__.ipynb",
   "output_path": "__notebook__.ipynb",
   "parameters": {},
   "start_time": "2024-09-16T20:58:46.174082",
   "version": "2.6.0"
  }
 },
 "nbformat": 4,
 "nbformat_minor": 5
}

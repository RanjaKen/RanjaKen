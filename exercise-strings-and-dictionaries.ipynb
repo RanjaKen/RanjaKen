{
 "cells": [
  {
   "cell_type": "markdown",
   "id": "a63d6100",
   "metadata": {
    "papermill": {
     "duration": 0.006228,
     "end_time": "2024-09-16T20:53:38.354569",
     "exception": false,
     "start_time": "2024-09-16T20:53:38.348341",
     "status": "completed"
    },
    "tags": []
   },
   "source": [
    "**This notebook is an exercise in the [Python](https://www.kaggle.com/learn/python) course.  You can reference the tutorial at [this link](https://www.kaggle.com/colinmorris/strings-and-dictionaries).**\n",
    "\n",
    "---\n"
   ]
  },
  {
   "cell_type": "markdown",
   "id": "624dbe03",
   "metadata": {
    "papermill": {
     "duration": 0.005023,
     "end_time": "2024-09-16T20:53:38.365380",
     "exception": false,
     "start_time": "2024-09-16T20:53:38.360357",
     "status": "completed"
    },
    "tags": []
   },
   "source": [
    "You are almost done with the course. Nice job!\n",
    "\n",
    "We have a couple more interesting problems for you before you go. \n",
    "\n",
    "As always, run the setup code below before working on the questions."
   ]
  },
  {
   "cell_type": "code",
   "execution_count": 1,
   "id": "99539881",
   "metadata": {
    "execution": {
     "iopub.execute_input": "2024-09-16T20:53:38.378067Z",
     "iopub.status.busy": "2024-09-16T20:53:38.377500Z",
     "iopub.status.idle": "2024-09-16T20:53:38.849438Z",
     "shell.execute_reply": "2024-09-16T20:53:38.847841Z"
    },
    "papermill": {
     "duration": 0.481412,
     "end_time": "2024-09-16T20:53:38.852044",
     "exception": false,
     "start_time": "2024-09-16T20:53:38.370632",
     "status": "completed"
    },
    "tags": []
   },
   "outputs": [
    {
     "name": "stdout",
     "output_type": "stream",
     "text": [
      "Setup complete.\n"
     ]
    }
   ],
   "source": [
    "from learntools.core import binder; binder.bind(globals())\n",
    "from learntools.python.ex6 import *\n",
    "print('Setup complete.')"
   ]
  },
  {
   "cell_type": "markdown",
   "id": "06345906",
   "metadata": {
    "papermill": {
     "duration": 0.005534,
     "end_time": "2024-09-16T20:53:38.863363",
     "exception": false,
     "start_time": "2024-09-16T20:53:38.857829",
     "status": "completed"
    },
    "tags": []
   },
   "source": [
    "Let's start with a string lightning round to warm up. What are the lengths of the strings below?\n",
    "\n",
    "For each of the five strings below, predict what `len()` would return when passed that string. Use the variable `length` to record your answer, then run the cell to check whether you were right.  \n",
    "\n",
    "# 0a."
   ]
  },
  {
   "cell_type": "code",
   "execution_count": 2,
   "id": "5c941cc6",
   "metadata": {
    "execution": {
     "iopub.execute_input": "2024-09-16T20:53:38.876255Z",
     "iopub.status.busy": "2024-09-16T20:53:38.875734Z",
     "iopub.status.idle": "2024-09-16T20:53:38.887212Z",
     "shell.execute_reply": "2024-09-16T20:53:38.886093Z"
    },
    "papermill": {
     "duration": 0.020503,
     "end_time": "2024-09-16T20:53:38.889399",
     "exception": false,
     "start_time": "2024-09-16T20:53:38.868896",
     "status": "completed"
    },
    "tags": []
   },
   "outputs": [
    {
     "data": {
      "application/javascript": [
       "parent.postMessage({\"jupyterEvent\": \"custom.exercise_interaction\", \"data\": {\"outcomeType\": 1, \"valueTowardsCompletion\": 0.3333333333333333, \"interactionType\": 1, \"questionType\": 1, \"questionId\": \"0.1_ZA\", \"learnToolsVersion\": \"0.3.4\", \"failureMessage\": \"\", \"exceptionClass\": \"\", \"trace\": \"\"}}, \"*\")"
      ],
      "text/plain": [
       "<IPython.core.display.Javascript object>"
      ]
     },
     "metadata": {},
     "output_type": "display_data"
    },
    {
     "data": {
      "text/markdown": [
       "<span style=\"color:#33cc33\">Correct:</span> \n",
       "\n",
       "The empty string has length zero. Note that the empty string is also the only string that Python considers as False when converting to boolean."
      ],
      "text/plain": [
       "Correct: \n",
       "\n",
       "The empty string has length zero. Note that the empty string is also the only string that Python considers as False when converting to boolean."
      ]
     },
     "metadata": {},
     "output_type": "display_data"
    }
   ],
   "source": [
    "a = \"\"\n",
    "length = 0\n",
    "q0.a.check()"
   ]
  },
  {
   "cell_type": "markdown",
   "id": "0a3445cd",
   "metadata": {
    "papermill": {
     "duration": 0.005506,
     "end_time": "2024-09-16T20:53:38.900622",
     "exception": false,
     "start_time": "2024-09-16T20:53:38.895116",
     "status": "completed"
    },
    "tags": []
   },
   "source": [
    "# 0b."
   ]
  },
  {
   "cell_type": "code",
   "execution_count": 3,
   "id": "c6358225",
   "metadata": {
    "execution": {
     "iopub.execute_input": "2024-09-16T20:53:38.915886Z",
     "iopub.status.busy": "2024-09-16T20:53:38.915191Z",
     "iopub.status.idle": "2024-09-16T20:53:38.925378Z",
     "shell.execute_reply": "2024-09-16T20:53:38.924274Z"
    },
    "papermill": {
     "duration": 0.021082,
     "end_time": "2024-09-16T20:53:38.927671",
     "exception": false,
     "start_time": "2024-09-16T20:53:38.906589",
     "status": "completed"
    },
    "tags": []
   },
   "outputs": [
    {
     "data": {
      "application/javascript": [
       "parent.postMessage({\"jupyterEvent\": \"custom.exercise_interaction\", \"data\": {\"outcomeType\": 1, \"valueTowardsCompletion\": 0.3333333333333333, \"interactionType\": 1, \"questionType\": 1, \"questionId\": \"0.2_ZB\", \"learnToolsVersion\": \"0.3.4\", \"failureMessage\": \"\", \"exceptionClass\": \"\", \"trace\": \"\"}}, \"*\")"
      ],
      "text/plain": [
       "<IPython.core.display.Javascript object>"
      ]
     },
     "metadata": {},
     "output_type": "display_data"
    },
    {
     "data": {
      "text/markdown": [
       "<span style=\"color:#33cc33\">Correct:</span> \n",
       "\n",
       "Keep in mind Python includes spaces (and punctuation) when counting string length."
      ],
      "text/plain": [
       "Correct: \n",
       "\n",
       "Keep in mind Python includes spaces (and punctuation) when counting string length."
      ]
     },
     "metadata": {},
     "output_type": "display_data"
    }
   ],
   "source": [
    "b = \"it's ok\"\n",
    "length = 7\n",
    "q0.b.check()"
   ]
  },
  {
   "cell_type": "markdown",
   "id": "4831d3e2",
   "metadata": {
    "papermill": {
     "duration": 0.005766,
     "end_time": "2024-09-16T20:53:38.939489",
     "exception": false,
     "start_time": "2024-09-16T20:53:38.933723",
     "status": "completed"
    },
    "tags": []
   },
   "source": [
    "# 0c."
   ]
  },
  {
   "cell_type": "code",
   "execution_count": 4,
   "id": "8054f188",
   "metadata": {
    "execution": {
     "iopub.execute_input": "2024-09-16T20:53:38.954725Z",
     "iopub.status.busy": "2024-09-16T20:53:38.954269Z",
     "iopub.status.idle": "2024-09-16T20:53:38.963645Z",
     "shell.execute_reply": "2024-09-16T20:53:38.962374Z"
    },
    "papermill": {
     "duration": 0.020906,
     "end_time": "2024-09-16T20:53:38.966264",
     "exception": false,
     "start_time": "2024-09-16T20:53:38.945358",
     "status": "completed"
    },
    "tags": []
   },
   "outputs": [
    {
     "data": {
      "application/javascript": [
       "parent.postMessage({\"jupyterEvent\": \"custom.exercise_interaction\", \"data\": {\"outcomeType\": 1, \"valueTowardsCompletion\": 0.3333333333333333, \"interactionType\": 1, \"questionType\": 1, \"questionId\": \"0.3_ZC\", \"learnToolsVersion\": \"0.3.4\", \"failureMessage\": \"\", \"exceptionClass\": \"\", \"trace\": \"\"}}, \"*\")"
      ],
      "text/plain": [
       "<IPython.core.display.Javascript object>"
      ]
     },
     "metadata": {},
     "output_type": "display_data"
    },
    {
     "data": {
      "text/markdown": [
       "<span style=\"color:#33cc33\">Correct:</span> \n",
       "\n",
       "Even though we use different syntax to create it, the string `c` is identical to `b`. In particular, note that the backslash is not part of the string, so it doesn't contribute to its length."
      ],
      "text/plain": [
       "Correct: \n",
       "\n",
       "Even though we use different syntax to create it, the string `c` is identical to `b`. In particular, note that the backslash is not part of the string, so it doesn't contribute to its length."
      ]
     },
     "metadata": {},
     "output_type": "display_data"
    }
   ],
   "source": [
    "c = 'it\\'s ok'\n",
    "length = 7\n",
    "q0.c.check()"
   ]
  },
  {
   "cell_type": "markdown",
   "id": "5a0b9cef",
   "metadata": {
    "papermill": {
     "duration": 0.00592,
     "end_time": "2024-09-16T20:53:38.978617",
     "exception": false,
     "start_time": "2024-09-16T20:53:38.972697",
     "status": "completed"
    },
    "tags": []
   },
   "source": [
    "# 0d."
   ]
  },
  {
   "cell_type": "code",
   "execution_count": 5,
   "id": "5e02bfbb",
   "metadata": {
    "execution": {
     "iopub.execute_input": "2024-09-16T20:53:38.993486Z",
     "iopub.status.busy": "2024-09-16T20:53:38.992400Z",
     "iopub.status.idle": "2024-09-16T20:53:39.002513Z",
     "shell.execute_reply": "2024-09-16T20:53:39.001323Z"
    },
    "papermill": {
     "duration": 0.020017,
     "end_time": "2024-09-16T20:53:39.004804",
     "exception": false,
     "start_time": "2024-09-16T20:53:38.984787",
     "status": "completed"
    },
    "tags": []
   },
   "outputs": [
    {
     "data": {
      "application/javascript": [
       "parent.postMessage({\"jupyterEvent\": \"custom.exercise_interaction\", \"data\": {\"outcomeType\": 1, \"valueTowardsCompletion\": 0.3333333333333333, \"interactionType\": 1, \"questionType\": 1, \"questionId\": \"0.4_ZD\", \"learnToolsVersion\": \"0.3.4\", \"failureMessage\": \"\", \"exceptionClass\": \"\", \"trace\": \"\"}}, \"*\")"
      ],
      "text/plain": [
       "<IPython.core.display.Javascript object>"
      ]
     },
     "metadata": {},
     "output_type": "display_data"
    },
    {
     "data": {
      "text/markdown": [
       "<span style=\"color:#33cc33\">Correct:</span> \n",
       "\n",
       "The fact that this string was created using triple-quote syntax doesn't make any difference in terms of its content or length. This string is exactly the same as `'hey'`."
      ],
      "text/plain": [
       "Correct: \n",
       "\n",
       "The fact that this string was created using triple-quote syntax doesn't make any difference in terms of its content or length. This string is exactly the same as `'hey'`."
      ]
     },
     "metadata": {},
     "output_type": "display_data"
    }
   ],
   "source": [
    "d = \"\"\"hey\"\"\"\n",
    "length = 3\n",
    "q0.d.check()"
   ]
  },
  {
   "cell_type": "markdown",
   "id": "0fb66032",
   "metadata": {
    "papermill": {
     "duration": 0.006252,
     "end_time": "2024-09-16T20:53:39.017600",
     "exception": false,
     "start_time": "2024-09-16T20:53:39.011348",
     "status": "completed"
    },
    "tags": []
   },
   "source": [
    "# 0e."
   ]
  },
  {
   "cell_type": "code",
   "execution_count": 6,
   "id": "7e6b351c",
   "metadata": {
    "execution": {
     "iopub.execute_input": "2024-09-16T20:53:39.032522Z",
     "iopub.status.busy": "2024-09-16T20:53:39.032118Z",
     "iopub.status.idle": "2024-09-16T20:53:39.042064Z",
     "shell.execute_reply": "2024-09-16T20:53:39.040850Z"
    },
    "papermill": {
     "duration": 0.020743,
     "end_time": "2024-09-16T20:53:39.044811",
     "exception": false,
     "start_time": "2024-09-16T20:53:39.024068",
     "status": "completed"
    },
    "tags": []
   },
   "outputs": [
    {
     "data": {
      "application/javascript": [
       "parent.postMessage({\"jupyterEvent\": \"custom.exercise_interaction\", \"data\": {\"outcomeType\": 1, \"valueTowardsCompletion\": 0.3333333333333333, \"interactionType\": 1, \"questionType\": 1, \"questionId\": \"0.5_ZE\", \"learnToolsVersion\": \"0.3.4\", \"failureMessage\": \"\", \"exceptionClass\": \"\", \"trace\": \"\"}}, \"*\")"
      ],
      "text/plain": [
       "<IPython.core.display.Javascript object>"
      ]
     },
     "metadata": {},
     "output_type": "display_data"
    },
    {
     "data": {
      "text/markdown": [
       "<span style=\"color:#33cc33\">Correct:</span> \n",
       "\n",
       "The newline character is just a single character! (Even though we represent it to Python using a combination of two characters.)"
      ],
      "text/plain": [
       "Correct: \n",
       "\n",
       "The newline character is just a single character! (Even though we represent it to Python using a combination of two characters.)"
      ]
     },
     "metadata": {},
     "output_type": "display_data"
    }
   ],
   "source": [
    "e = '\\n'\n",
    "length = 1\n",
    "q0.e.check()"
   ]
  },
  {
   "cell_type": "markdown",
   "id": "effcbcba",
   "metadata": {
    "papermill": {
     "duration": 0.006706,
     "end_time": "2024-09-16T20:53:39.058365",
     "exception": false,
     "start_time": "2024-09-16T20:53:39.051659",
     "status": "completed"
    },
    "tags": []
   },
   "source": [
    "# 1.\n",
    "\n",
    "There is a saying that \"Data scientists spend 80% of their time cleaning data, and 20% of their time complaining about cleaning data.\" Let's see if you can write a function to help clean US zip code data. Given a string, it should return whether or not that string represents a valid zip code. For our purposes, a valid zip code is any string consisting of exactly 5 digits.\n",
    "\n",
    "HINT: `str` has a method that will be useful here. Use `help(str)` to review a list of string methods."
   ]
  },
  {
   "cell_type": "code",
   "execution_count": 7,
   "id": "984d1ca3",
   "metadata": {
    "execution": {
     "iopub.execute_input": "2024-09-16T20:53:39.073453Z",
     "iopub.status.busy": "2024-09-16T20:53:39.073046Z",
     "iopub.status.idle": "2024-09-16T20:53:39.082471Z",
     "shell.execute_reply": "2024-09-16T20:53:39.081399Z"
    },
    "papermill": {
     "duration": 0.019616,
     "end_time": "2024-09-16T20:53:39.084650",
     "exception": false,
     "start_time": "2024-09-16T20:53:39.065034",
     "status": "completed"
    },
    "tags": []
   },
   "outputs": [
    {
     "data": {
      "application/javascript": [
       "parent.postMessage({\"jupyterEvent\": \"custom.exercise_interaction\", \"data\": {\"outcomeType\": 1, \"valueTowardsCompletion\": 0.3333333333333333, \"interactionType\": 1, \"questionType\": 2, \"questionId\": \"1_ZipValidator\", \"learnToolsVersion\": \"0.3.4\", \"failureMessage\": \"\", \"exceptionClass\": \"\", \"trace\": \"\"}}, \"*\")"
      ],
      "text/plain": [
       "<IPython.core.display.Javascript object>"
      ]
     },
     "metadata": {},
     "output_type": "display_data"
    },
    {
     "data": {
      "text/markdown": [
       "<span style=\"color:#33cc33\">Correct</span>"
      ],
      "text/plain": [
       "Correct"
      ]
     },
     "metadata": {},
     "output_type": "display_data"
    }
   ],
   "source": [
    "def is_valid_zip(zip_code):\n",
    "    \"\"\"Returns whether the input string is a valid (5 digit) zip code\n",
    "    \"\"\"\n",
    "    pass\n",
    "    return len(zip_code) == 5 and zip_code.isdigit()\n",
    "\n",
    "# Check your answer\n",
    "q1.check()"
   ]
  },
  {
   "cell_type": "code",
   "execution_count": 8,
   "id": "3cd212b0",
   "metadata": {
    "execution": {
     "iopub.execute_input": "2024-09-16T20:53:39.100780Z",
     "iopub.status.busy": "2024-09-16T20:53:39.100333Z",
     "iopub.status.idle": "2024-09-16T20:53:39.105001Z",
     "shell.execute_reply": "2024-09-16T20:53:39.103972Z"
    },
    "papermill": {
     "duration": 0.0155,
     "end_time": "2024-09-16T20:53:39.107151",
     "exception": false,
     "start_time": "2024-09-16T20:53:39.091651",
     "status": "completed"
    },
    "tags": []
   },
   "outputs": [],
   "source": [
    "#q1.hint()\n",
    "#q1.solution()"
   ]
  },
  {
   "cell_type": "markdown",
   "id": "1003f011",
   "metadata": {
    "papermill": {
     "duration": 0.007231,
     "end_time": "2024-09-16T20:53:39.121418",
     "exception": false,
     "start_time": "2024-09-16T20:53:39.114187",
     "status": "completed"
    },
    "tags": []
   },
   "source": [
    "# 2.\n",
    "\n",
    "A researcher has gathered thousands of news articles. But she wants to focus her attention on articles including a specific word. Complete the function below to help her filter her list of articles.\n",
    "\n",
    "Your function should meet the following criteria:\n",
    "\n",
    "- Do not include documents where the keyword string shows up only as a part of a larger word. For example, if she were looking for the keyword “closed”, you would not include the string “enclosed.” \n",
    "- She does not want you to distinguish upper case from lower case letters. So the phrase “Closed the case.” would be included when the keyword is “closed”\n",
    "- Do not let periods or commas affect what is matched. “It is closed.” would be included when the keyword is “closed”. But you can assume there are no other types of punctuation."
   ]
  },
  {
   "cell_type": "code",
   "execution_count": 9,
   "id": "05c20e75",
   "metadata": {
    "execution": {
     "iopub.execute_input": "2024-09-16T20:53:39.137371Z",
     "iopub.status.busy": "2024-09-16T20:53:39.136413Z",
     "iopub.status.idle": "2024-09-16T20:53:39.147575Z",
     "shell.execute_reply": "2024-09-16T20:53:39.146599Z"
    },
    "papermill": {
     "duration": 0.021625,
     "end_time": "2024-09-16T20:53:39.149919",
     "exception": false,
     "start_time": "2024-09-16T20:53:39.128294",
     "status": "completed"
    },
    "tags": []
   },
   "outputs": [
    {
     "data": {
      "application/javascript": [
       "parent.postMessage({\"jupyterEvent\": \"custom.exercise_interaction\", \"data\": {\"outcomeType\": 3, \"exceptionClass\": \"AttributeError\", \"trace\": \"  File \\\"/opt/conda/lib/python3.10/site-packages/learntools/core/problem.py\\\", line 239, in check\\n    actual = fn(*args)\\n\\n  File \\\"/tmp/ipykernel_17/2437540098.py\\\", line 16, in word_search\\n    normal = [token.split('.,').lower() for token in tokens]\\n\\n  File \\\"/tmp/ipykernel_17/2437540098.py\\\", line 16, in <listcomp>\\n    normal = [token.split('.,').lower() for token in tokens]\\n\", \"failureMessage\": \"When calling your function with arguments `[['The Learn Python Challenge Casino', 'They bought a car, and a horse', 'Casinoville?'], 'casino']`, Python raised the following exception... **`AttributeError: 'list' object has no attribute 'lower'`**\", \"interactionType\": 1, \"questionType\": 2, \"questionId\": \"2_WordSearch\", \"learnToolsVersion\": \"0.3.4\", \"valueTowardsCompletion\": 0.0}}, \"*\")"
      ],
      "text/plain": [
       "<IPython.core.display.Javascript object>"
      ]
     },
     "metadata": {},
     "output_type": "display_data"
    },
    {
     "data": {
      "text/markdown": [
       "<span style=\"color:#cc3333\">Incorrect:</span> When calling your function with arguments `[['The Learn Python Challenge Casino', 'They bought a car, and a horse', 'Casinoville?'], 'casino']`, Python raised the following exception... **`AttributeError: 'list' object has no attribute 'lower'`**"
      ],
      "text/plain": [
       "Incorrect: When calling your function with arguments `[['The Learn Python Challenge Casino', 'They bought a car, and a horse', 'Casinoville?'], 'casino']`, Python raised the following exception... **`AttributeError: 'list' object has no attribute 'lower'`**"
      ]
     },
     "metadata": {},
     "output_type": "display_data"
    }
   ],
   "source": [
    "def word_search(doc_list, keyword):\n",
    "    \"\"\"\n",
    "    Takes a list of documents (each document is a string) and a keyword. \n",
    "    Returns list of the index values into the original list for all documents \n",
    "    containing the keyword.\n",
    "\n",
    "    Example:\n",
    "    doc_list = [\"The Learn Python Challenge Casino.\", \"They bought a car\", \"Casinoville\"]\n",
    "    >>> word_search(doc_list, 'casino')\n",
    "    >>> [0]\n",
    "    \"\"\"\n",
    "    pass\n",
    "    index = []\n",
    "    for i, doc in enumerate(doc_list):\n",
    "        tokens = doc.split()\n",
    "        normal = [token.split('.,').lower() for token in tokens]\n",
    "        if keyword.lower() in normal:\n",
    "            index.append(i)\n",
    "        return index\n",
    "\n",
    "# Check your answer\n",
    "q2.check()"
   ]
  },
  {
   "cell_type": "code",
   "execution_count": 10,
   "id": "073e221c",
   "metadata": {
    "execution": {
     "iopub.execute_input": "2024-09-16T20:53:39.166698Z",
     "iopub.status.busy": "2024-09-16T20:53:39.166019Z",
     "iopub.status.idle": "2024-09-16T20:53:39.173644Z",
     "shell.execute_reply": "2024-09-16T20:53:39.172592Z"
    },
    "papermill": {
     "duration": 0.018806,
     "end_time": "2024-09-16T20:53:39.175992",
     "exception": false,
     "start_time": "2024-09-16T20:53:39.157186",
     "status": "completed"
    },
    "tags": []
   },
   "outputs": [
    {
     "data": {
      "text/plain": [
       "'\\n'"
      ]
     },
     "execution_count": 10,
     "metadata": {},
     "output_type": "execute_result"
    }
   ],
   "source": [
    "e"
   ]
  },
  {
   "cell_type": "code",
   "execution_count": 11,
   "id": "bff5930d",
   "metadata": {
    "execution": {
     "iopub.execute_input": "2024-09-16T20:53:39.192888Z",
     "iopub.status.busy": "2024-09-16T20:53:39.192440Z",
     "iopub.status.idle": "2024-09-16T20:53:39.196978Z",
     "shell.execute_reply": "2024-09-16T20:53:39.195932Z"
    },
    "papermill": {
     "duration": 0.015535,
     "end_time": "2024-09-16T20:53:39.199253",
     "exception": false,
     "start_time": "2024-09-16T20:53:39.183718",
     "status": "completed"
    },
    "tags": []
   },
   "outputs": [],
   "source": [
    "#q2.hint()\n",
    "#q2.solution()"
   ]
  },
  {
   "cell_type": "markdown",
   "id": "d2b223d7",
   "metadata": {
    "papermill": {
     "duration": 0.007227,
     "end_time": "2024-09-16T20:53:39.214225",
     "exception": false,
     "start_time": "2024-09-16T20:53:39.206998",
     "status": "completed"
    },
    "tags": []
   },
   "source": [
    "# 3.\n",
    "\n",
    "Now the researcher wants to supply multiple keywords to search for. Complete the function below to help her.\n",
    "\n",
    "(You're encouraged to use the `word_search` function you just wrote when implementing this function. Reusing code in this way makes your programs more robust and readable - and it saves typing!)"
   ]
  },
  {
   "cell_type": "code",
   "execution_count": 12,
   "id": "61f31b37",
   "metadata": {
    "execution": {
     "iopub.execute_input": "2024-09-16T20:53:39.230687Z",
     "iopub.status.busy": "2024-09-16T20:53:39.230241Z",
     "iopub.status.idle": "2024-09-16T20:53:39.239424Z",
     "shell.execute_reply": "2024-09-16T20:53:39.238417Z"
    },
    "papermill": {
     "duration": 0.020777,
     "end_time": "2024-09-16T20:53:39.242260",
     "exception": false,
     "start_time": "2024-09-16T20:53:39.221483",
     "status": "completed"
    },
    "tags": []
   },
   "outputs": [
    {
     "data": {
      "application/javascript": [
       "parent.postMessage({\"jupyterEvent\": \"custom.exercise_interaction\", \"data\": {\"outcomeType\": 4, \"interactionType\": 1, \"questionType\": 2, \"questionId\": \"3_MultiWordSearch\", \"learnToolsVersion\": \"0.3.4\", \"valueTowardsCompletion\": 0.0, \"failureMessage\": \"\", \"exceptionClass\": \"\", \"trace\": \"\"}}, \"*\")"
      ],
      "text/plain": [
       "<IPython.core.display.Javascript object>"
      ]
     },
     "metadata": {},
     "output_type": "display_data"
    },
    {
     "data": {
      "text/markdown": [
       "<span style=\"color:#ccaa33\">Check:</span> When you've updated the starter code, `check()` will tell you whether your code is correct. "
      ],
      "text/plain": [
       "Check: When you've updated the starter code, `check()` will tell you whether your code is correct. "
      ]
     },
     "metadata": {},
     "output_type": "display_data"
    }
   ],
   "source": [
    "def multi_word_search(doc_list, keywords):\n",
    "    \"\"\"\n",
    "    Takes list of documents (each document is a string) and a list of keywords.  \n",
    "    Returns a dictionary where each key is a keyword, and the value is a list of indices\n",
    "    (from doc_list) of the documents containing that keyword\n",
    "\n",
    "    >>> doc_list = [\"The Learn Python Challenge Casino.\", \"They bought a car and a casino\", \"Casinoville\"]\n",
    "    >>> keywords = ['casino', 'they']\n",
    "    >>> multi_word_search(doc_list, keywords)\n",
    "    {'casino': [0, 1], 'they': [1]}\n",
    "    \"\"\"\n",
    "    pass\n",
    "\n",
    "# Check your answer\n",
    "q3.check()"
   ]
  },
  {
   "cell_type": "code",
   "execution_count": 13,
   "id": "d2d3d63c",
   "metadata": {
    "execution": {
     "iopub.execute_input": "2024-09-16T20:53:39.260748Z",
     "iopub.status.busy": "2024-09-16T20:53:39.259512Z",
     "iopub.status.idle": "2024-09-16T20:53:39.264815Z",
     "shell.execute_reply": "2024-09-16T20:53:39.263814Z"
    },
    "papermill": {
     "duration": 0.017203,
     "end_time": "2024-09-16T20:53:39.267218",
     "exception": false,
     "start_time": "2024-09-16T20:53:39.250015",
     "status": "completed"
    },
    "tags": []
   },
   "outputs": [],
   "source": [
    "#q3.solution()"
   ]
  },
  {
   "cell_type": "markdown",
   "id": "c3cbcae1",
   "metadata": {
    "papermill": {
     "duration": 0.007469,
     "end_time": "2024-09-16T20:53:39.282490",
     "exception": false,
     "start_time": "2024-09-16T20:53:39.275021",
     "status": "completed"
    },
    "tags": []
   },
   "source": [
    "# Keep Going\n",
    "\n",
    "You've learned a lot. But even the best programmers rely heavily on \"libraries\" of code from other programmers. You'll learn about that in **[the last lesson](https://www.kaggle.com/colinmorris/working-with-external-libraries)**.\n"
   ]
  },
  {
   "cell_type": "markdown",
   "id": "3dde1833",
   "metadata": {
    "papermill": {
     "duration": 0.007545,
     "end_time": "2024-09-16T20:53:39.297487",
     "exception": false,
     "start_time": "2024-09-16T20:53:39.289942",
     "status": "completed"
    },
    "tags": []
   },
   "source": [
    "---\n",
    "\n",
    "\n",
    "\n",
    "\n",
    "*Have questions or comments? Visit the [course discussion forum](https://www.kaggle.com/learn/python/discussion) to chat with other learners.*"
   ]
  }
 ],
 "metadata": {
  "kaggle": {
   "accelerator": "none",
   "dataSources": [],
   "isGpuEnabled": false,
   "isInternetEnabled": false,
   "language": "python",
   "sourceType": "notebook"
  },
  "kernelspec": {
   "display_name": "Python 3",
   "language": "python",
   "name": "python3"
  },
  "language_info": {
   "codemirror_mode": {
    "name": "ipython",
    "version": 3
   },
   "file_extension": ".py",
   "mimetype": "text/x-python",
   "name": "python",
   "nbconvert_exporter": "python",
   "pygments_lexer": "ipython3",
   "version": "3.10.14"
  },
  "learntools_metadata": {
   "lesson_index": 5,
   "type": "exercise"
  },
  "papermill": {
   "default_parameters": {},
   "duration": 4.263659,
   "end_time": "2024-09-16T20:53:39.826109",
   "environment_variables": {},
   "exception": null,
   "input_path": "__notebook__.ipynb",
   "output_path": "__notebook__.ipynb",
   "parameters": {},
   "start_time": "2024-09-16T20:53:35.562450",
   "version": "2.6.0"
  }
 },
 "nbformat": 4,
 "nbformat_minor": 5
}

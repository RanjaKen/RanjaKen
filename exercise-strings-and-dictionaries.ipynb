{
 "cells": [
  {
   "cell_type": "markdown",
   "id": "a9588615",
   "metadata": {
    "papermill": {
     "duration": 0.005952,
     "end_time": "2024-09-16T20:51:41.765430",
     "exception": false,
     "start_time": "2024-09-16T20:51:41.759478",
     "status": "completed"
    },
    "tags": []
   },
   "source": [
    "**This notebook is an exercise in the [Python](https://www.kaggle.com/learn/python) course.  You can reference the tutorial at [this link](https://www.kaggle.com/colinmorris/strings-and-dictionaries).**\n",
    "\n",
    "---\n"
   ]
  },
  {
   "cell_type": "markdown",
   "id": "eb811b51",
   "metadata": {
    "papermill": {
     "duration": 0.004969,
     "end_time": "2024-09-16T20:51:41.775797",
     "exception": false,
     "start_time": "2024-09-16T20:51:41.770828",
     "status": "completed"
    },
    "tags": []
   },
   "source": [
    "You are almost done with the course. Nice job!\n",
    "\n",
    "We have a couple more interesting problems for you before you go. \n",
    "\n",
    "As always, run the setup code below before working on the questions."
   ]
  },
  {
   "cell_type": "code",
   "execution_count": 1,
   "id": "847514b6",
   "metadata": {
    "execution": {
     "iopub.execute_input": "2024-09-16T20:51:41.788109Z",
     "iopub.status.busy": "2024-09-16T20:51:41.787660Z",
     "iopub.status.idle": "2024-09-16T20:51:42.246627Z",
     "shell.execute_reply": "2024-09-16T20:51:42.245494Z"
    },
    "papermill": {
     "duration": 0.46864,
     "end_time": "2024-09-16T20:51:42.249623",
     "exception": false,
     "start_time": "2024-09-16T20:51:41.780983",
     "status": "completed"
    },
    "tags": []
   },
   "outputs": [
    {
     "name": "stdout",
     "output_type": "stream",
     "text": [
      "Setup complete.\n"
     ]
    }
   ],
   "source": [
    "from learntools.core import binder; binder.bind(globals())\n",
    "from learntools.python.ex6 import *\n",
    "print('Setup complete.')"
   ]
  },
  {
   "cell_type": "markdown",
   "id": "59a85a16",
   "metadata": {
    "papermill": {
     "duration": 0.005289,
     "end_time": "2024-09-16T20:51:42.261110",
     "exception": false,
     "start_time": "2024-09-16T20:51:42.255821",
     "status": "completed"
    },
    "tags": []
   },
   "source": [
    "Let's start with a string lightning round to warm up. What are the lengths of the strings below?\n",
    "\n",
    "For each of the five strings below, predict what `len()` would return when passed that string. Use the variable `length` to record your answer, then run the cell to check whether you were right.  \n",
    "\n",
    "# 0a."
   ]
  },
  {
   "cell_type": "code",
   "execution_count": 2,
   "id": "74851087",
   "metadata": {
    "execution": {
     "iopub.execute_input": "2024-09-16T20:51:42.273805Z",
     "iopub.status.busy": "2024-09-16T20:51:42.273280Z",
     "iopub.status.idle": "2024-09-16T20:51:42.283682Z",
     "shell.execute_reply": "2024-09-16T20:51:42.282601Z"
    },
    "papermill": {
     "duration": 0.019279,
     "end_time": "2024-09-16T20:51:42.285870",
     "exception": false,
     "start_time": "2024-09-16T20:51:42.266591",
     "status": "completed"
    },
    "tags": []
   },
   "outputs": [
    {
     "data": {
      "application/javascript": [
       "parent.postMessage({\"jupyterEvent\": \"custom.exercise_interaction\", \"data\": {\"outcomeType\": 1, \"valueTowardsCompletion\": 0.3333333333333333, \"interactionType\": 1, \"questionType\": 1, \"questionId\": \"0.1_ZA\", \"learnToolsVersion\": \"0.3.4\", \"failureMessage\": \"\", \"exceptionClass\": \"\", \"trace\": \"\"}}, \"*\")"
      ],
      "text/plain": [
       "<IPython.core.display.Javascript object>"
      ]
     },
     "metadata": {},
     "output_type": "display_data"
    },
    {
     "data": {
      "text/markdown": [
       "<span style=\"color:#33cc33\">Correct:</span> \n",
       "\n",
       "The empty string has length zero. Note that the empty string is also the only string that Python considers as False when converting to boolean."
      ],
      "text/plain": [
       "Correct: \n",
       "\n",
       "The empty string has length zero. Note that the empty string is also the only string that Python considers as False when converting to boolean."
      ]
     },
     "metadata": {},
     "output_type": "display_data"
    }
   ],
   "source": [
    "a = \"\"\n",
    "length = 0\n",
    "q0.a.check()"
   ]
  },
  {
   "cell_type": "markdown",
   "id": "eca527a6",
   "metadata": {
    "papermill": {
     "duration": 0.005349,
     "end_time": "2024-09-16T20:51:42.296973",
     "exception": false,
     "start_time": "2024-09-16T20:51:42.291624",
     "status": "completed"
    },
    "tags": []
   },
   "source": [
    "# 0b."
   ]
  },
  {
   "cell_type": "code",
   "execution_count": 3,
   "id": "fe3f0649",
   "metadata": {
    "execution": {
     "iopub.execute_input": "2024-09-16T20:51:42.310729Z",
     "iopub.status.busy": "2024-09-16T20:51:42.309664Z",
     "iopub.status.idle": "2024-09-16T20:51:42.318810Z",
     "shell.execute_reply": "2024-09-16T20:51:42.317754Z"
    },
    "papermill": {
     "duration": 0.018457,
     "end_time": "2024-09-16T20:51:42.321190",
     "exception": false,
     "start_time": "2024-09-16T20:51:42.302733",
     "status": "completed"
    },
    "tags": []
   },
   "outputs": [
    {
     "data": {
      "application/javascript": [
       "parent.postMessage({\"jupyterEvent\": \"custom.exercise_interaction\", \"data\": {\"outcomeType\": 1, \"valueTowardsCompletion\": 0.3333333333333333, \"interactionType\": 1, \"questionType\": 1, \"questionId\": \"0.2_ZB\", \"learnToolsVersion\": \"0.3.4\", \"failureMessage\": \"\", \"exceptionClass\": \"\", \"trace\": \"\"}}, \"*\")"
      ],
      "text/plain": [
       "<IPython.core.display.Javascript object>"
      ]
     },
     "metadata": {},
     "output_type": "display_data"
    },
    {
     "data": {
      "text/markdown": [
       "<span style=\"color:#33cc33\">Correct:</span> \n",
       "\n",
       "Keep in mind Python includes spaces (and punctuation) when counting string length."
      ],
      "text/plain": [
       "Correct: \n",
       "\n",
       "Keep in mind Python includes spaces (and punctuation) when counting string length."
      ]
     },
     "metadata": {},
     "output_type": "display_data"
    }
   ],
   "source": [
    "b = \"it's ok\"\n",
    "length = 7\n",
    "q0.b.check()"
   ]
  },
  {
   "cell_type": "markdown",
   "id": "2fbe2cf5",
   "metadata": {
    "papermill": {
     "duration": 0.0057,
     "end_time": "2024-09-16T20:51:42.332961",
     "exception": false,
     "start_time": "2024-09-16T20:51:42.327261",
     "status": "completed"
    },
    "tags": []
   },
   "source": [
    "# 0c."
   ]
  },
  {
   "cell_type": "code",
   "execution_count": 4,
   "id": "cafead09",
   "metadata": {
    "execution": {
     "iopub.execute_input": "2024-09-16T20:51:42.346386Z",
     "iopub.status.busy": "2024-09-16T20:51:42.345958Z",
     "iopub.status.idle": "2024-09-16T20:51:42.354738Z",
     "shell.execute_reply": "2024-09-16T20:51:42.353573Z"
    },
    "papermill": {
     "duration": 0.018133,
     "end_time": "2024-09-16T20:51:42.356976",
     "exception": false,
     "start_time": "2024-09-16T20:51:42.338843",
     "status": "completed"
    },
    "tags": []
   },
   "outputs": [
    {
     "data": {
      "application/javascript": [
       "parent.postMessage({\"jupyterEvent\": \"custom.exercise_interaction\", \"data\": {\"outcomeType\": 1, \"valueTowardsCompletion\": 0.3333333333333333, \"interactionType\": 1, \"questionType\": 1, \"questionId\": \"0.3_ZC\", \"learnToolsVersion\": \"0.3.4\", \"failureMessage\": \"\", \"exceptionClass\": \"\", \"trace\": \"\"}}, \"*\")"
      ],
      "text/plain": [
       "<IPython.core.display.Javascript object>"
      ]
     },
     "metadata": {},
     "output_type": "display_data"
    },
    {
     "data": {
      "text/markdown": [
       "<span style=\"color:#33cc33\">Correct:</span> \n",
       "\n",
       "Even though we use different syntax to create it, the string `c` is identical to `b`. In particular, note that the backslash is not part of the string, so it doesn't contribute to its length."
      ],
      "text/plain": [
       "Correct: \n",
       "\n",
       "Even though we use different syntax to create it, the string `c` is identical to `b`. In particular, note that the backslash is not part of the string, so it doesn't contribute to its length."
      ]
     },
     "metadata": {},
     "output_type": "display_data"
    }
   ],
   "source": [
    "c = 'it\\'s ok'\n",
    "length = 7\n",
    "q0.c.check()"
   ]
  },
  {
   "cell_type": "markdown",
   "id": "7846bff0",
   "metadata": {
    "papermill": {
     "duration": 0.005901,
     "end_time": "2024-09-16T20:51:42.369503",
     "exception": false,
     "start_time": "2024-09-16T20:51:42.363602",
     "status": "completed"
    },
    "tags": []
   },
   "source": [
    "# 0d."
   ]
  },
  {
   "cell_type": "code",
   "execution_count": 5,
   "id": "36d69c64",
   "metadata": {
    "execution": {
     "iopub.execute_input": "2024-09-16T20:51:42.383592Z",
     "iopub.status.busy": "2024-09-16T20:51:42.383165Z",
     "iopub.status.idle": "2024-09-16T20:51:42.392885Z",
     "shell.execute_reply": "2024-09-16T20:51:42.391878Z"
    },
    "papermill": {
     "duration": 0.019671,
     "end_time": "2024-09-16T20:51:42.395277",
     "exception": false,
     "start_time": "2024-09-16T20:51:42.375606",
     "status": "completed"
    },
    "tags": []
   },
   "outputs": [
    {
     "data": {
      "application/javascript": [
       "parent.postMessage({\"jupyterEvent\": \"custom.exercise_interaction\", \"data\": {\"outcomeType\": 1, \"valueTowardsCompletion\": 0.3333333333333333, \"interactionType\": 1, \"questionType\": 1, \"questionId\": \"0.4_ZD\", \"learnToolsVersion\": \"0.3.4\", \"failureMessage\": \"\", \"exceptionClass\": \"\", \"trace\": \"\"}}, \"*\")"
      ],
      "text/plain": [
       "<IPython.core.display.Javascript object>"
      ]
     },
     "metadata": {},
     "output_type": "display_data"
    },
    {
     "data": {
      "text/markdown": [
       "<span style=\"color:#33cc33\">Correct:</span> \n",
       "\n",
       "The fact that this string was created using triple-quote syntax doesn't make any difference in terms of its content or length. This string is exactly the same as `'hey'`."
      ],
      "text/plain": [
       "Correct: \n",
       "\n",
       "The fact that this string was created using triple-quote syntax doesn't make any difference in terms of its content or length. This string is exactly the same as `'hey'`."
      ]
     },
     "metadata": {},
     "output_type": "display_data"
    }
   ],
   "source": [
    "d = \"\"\"hey\"\"\"\n",
    "length = 3\n",
    "q0.d.check()"
   ]
  },
  {
   "cell_type": "markdown",
   "id": "a3278f53",
   "metadata": {
    "papermill": {
     "duration": 0.006125,
     "end_time": "2024-09-16T20:51:42.407856",
     "exception": false,
     "start_time": "2024-09-16T20:51:42.401731",
     "status": "completed"
    },
    "tags": []
   },
   "source": [
    "# 0e."
   ]
  },
  {
   "cell_type": "code",
   "execution_count": 6,
   "id": "348704e6",
   "metadata": {
    "execution": {
     "iopub.execute_input": "2024-09-16T20:51:42.422315Z",
     "iopub.status.busy": "2024-09-16T20:51:42.421884Z",
     "iopub.status.idle": "2024-09-16T20:51:42.430715Z",
     "shell.execute_reply": "2024-09-16T20:51:42.429689Z"
    },
    "papermill": {
     "duration": 0.018666,
     "end_time": "2024-09-16T20:51:42.432854",
     "exception": false,
     "start_time": "2024-09-16T20:51:42.414188",
     "status": "completed"
    },
    "tags": []
   },
   "outputs": [
    {
     "data": {
      "application/javascript": [
       "parent.postMessage({\"jupyterEvent\": \"custom.exercise_interaction\", \"data\": {\"outcomeType\": 1, \"valueTowardsCompletion\": 0.3333333333333333, \"interactionType\": 1, \"questionType\": 1, \"questionId\": \"0.5_ZE\", \"learnToolsVersion\": \"0.3.4\", \"failureMessage\": \"\", \"exceptionClass\": \"\", \"trace\": \"\"}}, \"*\")"
      ],
      "text/plain": [
       "<IPython.core.display.Javascript object>"
      ]
     },
     "metadata": {},
     "output_type": "display_data"
    },
    {
     "data": {
      "text/markdown": [
       "<span style=\"color:#33cc33\">Correct:</span> \n",
       "\n",
       "The newline character is just a single character! (Even though we represent it to Python using a combination of two characters.)"
      ],
      "text/plain": [
       "Correct: \n",
       "\n",
       "The newline character is just a single character! (Even though we represent it to Python using a combination of two characters.)"
      ]
     },
     "metadata": {},
     "output_type": "display_data"
    }
   ],
   "source": [
    "e = '\\n'\n",
    "length = 1\n",
    "q0.e.check()"
   ]
  },
  {
   "cell_type": "markdown",
   "id": "8644bb13",
   "metadata": {
    "papermill": {
     "duration": 0.006412,
     "end_time": "2024-09-16T20:51:42.445941",
     "exception": false,
     "start_time": "2024-09-16T20:51:42.439529",
     "status": "completed"
    },
    "tags": []
   },
   "source": [
    "# 1.\n",
    "\n",
    "There is a saying that \"Data scientists spend 80% of their time cleaning data, and 20% of their time complaining about cleaning data.\" Let's see if you can write a function to help clean US zip code data. Given a string, it should return whether or not that string represents a valid zip code. For our purposes, a valid zip code is any string consisting of exactly 5 digits.\n",
    "\n",
    "HINT: `str` has a method that will be useful here. Use `help(str)` to review a list of string methods."
   ]
  },
  {
   "cell_type": "code",
   "execution_count": 7,
   "id": "a5dfe70e",
   "metadata": {
    "execution": {
     "iopub.execute_input": "2024-09-16T20:51:42.462869Z",
     "iopub.status.busy": "2024-09-16T20:51:42.462455Z",
     "iopub.status.idle": "2024-09-16T20:51:42.471859Z",
     "shell.execute_reply": "2024-09-16T20:51:42.470698Z"
    },
    "papermill": {
     "duration": 0.019862,
     "end_time": "2024-09-16T20:51:42.474001",
     "exception": false,
     "start_time": "2024-09-16T20:51:42.454139",
     "status": "completed"
    },
    "tags": []
   },
   "outputs": [
    {
     "data": {
      "application/javascript": [
       "parent.postMessage({\"jupyterEvent\": \"custom.exercise_interaction\", \"data\": {\"outcomeType\": 1, \"valueTowardsCompletion\": 0.3333333333333333, \"interactionType\": 1, \"questionType\": 2, \"questionId\": \"1_ZipValidator\", \"learnToolsVersion\": \"0.3.4\", \"failureMessage\": \"\", \"exceptionClass\": \"\", \"trace\": \"\"}}, \"*\")"
      ],
      "text/plain": [
       "<IPython.core.display.Javascript object>"
      ]
     },
     "metadata": {},
     "output_type": "display_data"
    },
    {
     "data": {
      "text/markdown": [
       "<span style=\"color:#33cc33\">Correct</span>"
      ],
      "text/plain": [
       "Correct"
      ]
     },
     "metadata": {},
     "output_type": "display_data"
    }
   ],
   "source": [
    "def is_valid_zip(zip_code):\n",
    "    \"\"\"Returns whether the input string is a valid (5 digit) zip code\n",
    "    \"\"\"\n",
    "    pass\n",
    "    return len(zip_code) == 5 and zip_code.isdigit()\n",
    "\n",
    "# Check your answer\n",
    "q1.check()"
   ]
  },
  {
   "cell_type": "code",
   "execution_count": 8,
   "id": "bc38f1c6",
   "metadata": {
    "execution": {
     "iopub.execute_input": "2024-09-16T20:51:42.489388Z",
     "iopub.status.busy": "2024-09-16T20:51:42.488948Z",
     "iopub.status.idle": "2024-09-16T20:51:42.494013Z",
     "shell.execute_reply": "2024-09-16T20:51:42.492799Z"
    },
    "papermill": {
     "duration": 0.015702,
     "end_time": "2024-09-16T20:51:42.496543",
     "exception": false,
     "start_time": "2024-09-16T20:51:42.480841",
     "status": "completed"
    },
    "tags": []
   },
   "outputs": [],
   "source": [
    "#q1.hint()\n",
    "#q1.solution()"
   ]
  },
  {
   "cell_type": "markdown",
   "id": "90ea6fb6",
   "metadata": {
    "papermill": {
     "duration": 0.006892,
     "end_time": "2024-09-16T20:51:42.510686",
     "exception": false,
     "start_time": "2024-09-16T20:51:42.503794",
     "status": "completed"
    },
    "tags": []
   },
   "source": [
    "# 2.\n",
    "\n",
    "A researcher has gathered thousands of news articles. But she wants to focus her attention on articles including a specific word. Complete the function below to help her filter her list of articles.\n",
    "\n",
    "Your function should meet the following criteria:\n",
    "\n",
    "- Do not include documents where the keyword string shows up only as a part of a larger word. For example, if she were looking for the keyword “closed”, you would not include the string “enclosed.” \n",
    "- She does not want you to distinguish upper case from lower case letters. So the phrase “Closed the case.” would be included when the keyword is “closed”\n",
    "- Do not let periods or commas affect what is matched. “It is closed.” would be included when the keyword is “closed”. But you can assume there are no other types of punctuation."
   ]
  },
  {
   "cell_type": "code",
   "execution_count": 9,
   "id": "9c0b691e",
   "metadata": {
    "execution": {
     "iopub.execute_input": "2024-09-16T20:51:42.527072Z",
     "iopub.status.busy": "2024-09-16T20:51:42.526664Z",
     "iopub.status.idle": "2024-09-16T20:51:42.539178Z",
     "shell.execute_reply": "2024-09-16T20:51:42.538038Z"
    },
    "papermill": {
     "duration": 0.023946,
     "end_time": "2024-09-16T20:51:42.541745",
     "exception": false,
     "start_time": "2024-09-16T20:51:42.517799",
     "status": "completed"
    },
    "tags": []
   },
   "outputs": [
    {
     "data": {
      "application/javascript": [
       "parent.postMessage({\"jupyterEvent\": \"custom.exercise_interaction\", \"data\": {\"outcomeType\": 3, \"exceptionClass\": \"AttributeError\", \"trace\": \"  File \\\"/opt/conda/lib/python3.10/site-packages/learntools/core/problem.py\\\", line 239, in check\\n    actual = fn(*args)\\n\\n  File \\\"/tmp/ipykernel_17/2437540098.py\\\", line 16, in word_search\\n    normal = [token.split('.,').lower() for token in tokens]\\n\\n  File \\\"/tmp/ipykernel_17/2437540098.py\\\", line 16, in <listcomp>\\n    normal = [token.split('.,').lower() for token in tokens]\\n\", \"failureMessage\": \"When calling your function with arguments `[['The Learn Python Challenge Casino', 'They bought a car, and a horse', 'Casinoville?'], 'casino']`, Python raised the following exception... **`AttributeError: 'list' object has no attribute 'lower'`**\", \"interactionType\": 1, \"questionType\": 2, \"questionId\": \"2_WordSearch\", \"learnToolsVersion\": \"0.3.4\", \"valueTowardsCompletion\": 0.0}}, \"*\")"
      ],
      "text/plain": [
       "<IPython.core.display.Javascript object>"
      ]
     },
     "metadata": {},
     "output_type": "display_data"
    },
    {
     "data": {
      "text/markdown": [
       "<span style=\"color:#cc3333\">Incorrect:</span> When calling your function with arguments `[['The Learn Python Challenge Casino', 'They bought a car, and a horse', 'Casinoville?'], 'casino']`, Python raised the following exception... **`AttributeError: 'list' object has no attribute 'lower'`**"
      ],
      "text/plain": [
       "Incorrect: When calling your function with arguments `[['The Learn Python Challenge Casino', 'They bought a car, and a horse', 'Casinoville?'], 'casino']`, Python raised the following exception... **`AttributeError: 'list' object has no attribute 'lower'`**"
      ]
     },
     "metadata": {},
     "output_type": "display_data"
    }
   ],
   "source": [
    "def word_search(doc_list, keyword):\n",
    "    \"\"\"\n",
    "    Takes a list of documents (each document is a string) and a keyword. \n",
    "    Returns list of the index values into the original list for all documents \n",
    "    containing the keyword.\n",
    "\n",
    "    Example:\n",
    "    doc_list = [\"The Learn Python Challenge Casino.\", \"They bought a car\", \"Casinoville\"]\n",
    "    >>> word_search(doc_list, 'casino')\n",
    "    >>> [0]\n",
    "    \"\"\"\n",
    "    pass\n",
    "    index = []\n",
    "    for i, doc in enumerate(doc_list):\n",
    "        tokens = doc.split()\n",
    "        normal = [token.split('.,').lower() for token in tokens]\n",
    "        if keyword.lower() in normal:\n",
    "            index.append(i)\n",
    "        return index\n",
    "\n",
    "# Check your answer\n",
    "q2.check()"
   ]
  },
  {
   "cell_type": "code",
   "execution_count": 10,
   "id": "4b5dd703",
   "metadata": {
    "execution": {
     "iopub.execute_input": "2024-09-16T20:51:42.558168Z",
     "iopub.status.busy": "2024-09-16T20:51:42.557770Z",
     "iopub.status.idle": "2024-09-16T20:51:42.564476Z",
     "shell.execute_reply": "2024-09-16T20:51:42.563444Z"
    },
    "papermill": {
     "duration": 0.01769,
     "end_time": "2024-09-16T20:51:42.566650",
     "exception": false,
     "start_time": "2024-09-16T20:51:42.548960",
     "status": "completed"
    },
    "tags": []
   },
   "outputs": [
    {
     "data": {
      "text/plain": [
       "'\\n'"
      ]
     },
     "execution_count": 10,
     "metadata": {},
     "output_type": "execute_result"
    }
   ],
   "source": [
    "e"
   ]
  },
  {
   "cell_type": "code",
   "execution_count": 11,
   "id": "f42a3e54",
   "metadata": {
    "execution": {
     "iopub.execute_input": "2024-09-16T20:51:42.583065Z",
     "iopub.status.busy": "2024-09-16T20:51:42.582637Z",
     "iopub.status.idle": "2024-09-16T20:51:42.587468Z",
     "shell.execute_reply": "2024-09-16T20:51:42.586232Z"
    },
    "papermill": {
     "duration": 0.015908,
     "end_time": "2024-09-16T20:51:42.589916",
     "exception": false,
     "start_time": "2024-09-16T20:51:42.574008",
     "status": "completed"
    },
    "tags": []
   },
   "outputs": [],
   "source": [
    "#q2.hint()\n",
    "#q2.solution()"
   ]
  },
  {
   "cell_type": "markdown",
   "id": "9f28f06a",
   "metadata": {
    "papermill": {
     "duration": 0.007103,
     "end_time": "2024-09-16T20:51:42.604442",
     "exception": false,
     "start_time": "2024-09-16T20:51:42.597339",
     "status": "completed"
    },
    "tags": []
   },
   "source": [
    "# 3.\n",
    "\n",
    "Now the researcher wants to supply multiple keywords to search for. Complete the function below to help her.\n",
    "\n",
    "(You're encouraged to use the `word_search` function you just wrote when implementing this function. Reusing code in this way makes your programs more robust and readable - and it saves typing!)"
   ]
  },
  {
   "cell_type": "code",
   "execution_count": 12,
   "id": "8db21b12",
   "metadata": {
    "execution": {
     "iopub.execute_input": "2024-09-16T20:51:42.620760Z",
     "iopub.status.busy": "2024-09-16T20:51:42.620356Z",
     "iopub.status.idle": "2024-09-16T20:51:42.631261Z",
     "shell.execute_reply": "2024-09-16T20:51:42.629624Z"
    },
    "papermill": {
     "duration": 0.022581,
     "end_time": "2024-09-16T20:51:42.634227",
     "exception": false,
     "start_time": "2024-09-16T20:51:42.611646",
     "status": "completed"
    },
    "tags": []
   },
   "outputs": [
    {
     "data": {
      "application/javascript": [
       "parent.postMessage({\"jupyterEvent\": \"custom.exercise_interaction\", \"data\": {\"outcomeType\": 4, \"interactionType\": 1, \"questionType\": 2, \"questionId\": \"3_MultiWordSearch\", \"learnToolsVersion\": \"0.3.4\", \"valueTowardsCompletion\": 0.0, \"failureMessage\": \"\", \"exceptionClass\": \"\", \"trace\": \"\"}}, \"*\")"
      ],
      "text/plain": [
       "<IPython.core.display.Javascript object>"
      ]
     },
     "metadata": {},
     "output_type": "display_data"
    },
    {
     "data": {
      "text/markdown": [
       "<span style=\"color:#ccaa33\">Check:</span> When you've updated the starter code, `check()` will tell you whether your code is correct. "
      ],
      "text/plain": [
       "Check: When you've updated the starter code, `check()` will tell you whether your code is correct. "
      ]
     },
     "metadata": {},
     "output_type": "display_data"
    }
   ],
   "source": [
    "def multi_word_search(doc_list, keywords):\n",
    "    \"\"\"\n",
    "    Takes list of documents (each document is a string) and a list of keywords.  \n",
    "    Returns a dictionary where each key is a keyword, and the value is a list of indices\n",
    "    (from doc_list) of the documents containing that keyword\n",
    "\n",
    "    >>> doc_list = [\"The Learn Python Challenge Casino.\", \"They bought a car and a casino\", \"Casinoville\"]\n",
    "    >>> keywords = ['casino', 'they']\n",
    "    >>> multi_word_search(doc_list, keywords)\n",
    "    {'casino': [0, 1], 'they': [1]}\n",
    "    \"\"\"\n",
    "    pass\n",
    "\n",
    "# Check your answer\n",
    "q3.check()"
   ]
  },
  {
   "cell_type": "code",
   "execution_count": 13,
   "id": "c837022e",
   "metadata": {
    "execution": {
     "iopub.execute_input": "2024-09-16T20:51:42.651512Z",
     "iopub.status.busy": "2024-09-16T20:51:42.651077Z",
     "iopub.status.idle": "2024-09-16T20:51:42.655956Z",
     "shell.execute_reply": "2024-09-16T20:51:42.654818Z"
    },
    "papermill": {
     "duration": 0.016141,
     "end_time": "2024-09-16T20:51:42.658278",
     "exception": false,
     "start_time": "2024-09-16T20:51:42.642137",
     "status": "completed"
    },
    "tags": []
   },
   "outputs": [],
   "source": [
    "#q3.solution()"
   ]
  },
  {
   "cell_type": "markdown",
   "id": "3f1eb698",
   "metadata": {
    "papermill": {
     "duration": 0.007535,
     "end_time": "2024-09-16T20:51:42.674129",
     "exception": false,
     "start_time": "2024-09-16T20:51:42.666594",
     "status": "completed"
    },
    "tags": []
   },
   "source": [
    "# Keep Going\n",
    "\n",
    "You've learned a lot. But even the best programmers rely heavily on \"libraries\" of code from other programmers. You'll learn about that in **[the last lesson](https://www.kaggle.com/colinmorris/working-with-external-libraries)**.\n"
   ]
  },
  {
   "cell_type": "markdown",
   "id": "dacb1dcb",
   "metadata": {
    "papermill": {
     "duration": 0.007286,
     "end_time": "2024-09-16T20:51:42.688963",
     "exception": false,
     "start_time": "2024-09-16T20:51:42.681677",
     "status": "completed"
    },
    "tags": []
   },
   "source": [
    "---\n",
    "\n",
    "\n",
    "\n",
    "\n",
    "*Have questions or comments? Visit the [course discussion forum](https://www.kaggle.com/learn/python/discussion) to chat with other learners.*"
   ]
  }
 ],
 "metadata": {
  "kaggle": {
   "accelerator": "none",
   "dataSources": [],
   "isGpuEnabled": false,
   "isInternetEnabled": false,
   "language": "python",
   "sourceType": "notebook"
  },
  "kernelspec": {
   "display_name": "Python 3",
   "language": "python",
   "name": "python3"
  },
  "language_info": {
   "codemirror_mode": {
    "name": "ipython",
    "version": 3
   },
   "file_extension": ".py",
   "mimetype": "text/x-python",
   "name": "python",
   "nbconvert_exporter": "python",
   "pygments_lexer": "ipython3",
   "version": "3.10.14"
  },
  "learntools_metadata": {
   "lesson_index": 5,
   "type": "exercise"
  },
  "papermill": {
   "default_parameters": {},
   "duration": 4.352576,
   "end_time": "2024-09-16T20:51:43.217732",
   "environment_variables": {},
   "exception": null,
   "input_path": "__notebook__.ipynb",
   "output_path": "__notebook__.ipynb",
   "parameters": {},
   "start_time": "2024-09-16T20:51:38.865156",
   "version": "2.6.0"
  }
 },
 "nbformat": 4,
 "nbformat_minor": 5
}
